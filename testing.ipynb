{
 "cells": [
  {
   "cell_type": "code",
   "outputs": [],
   "source": [
    "import pandas as pd\n",
    "from sqlalchemy import create_engine\n",
    "from elo_calculations import elo_update, process_maps"
   ],
   "metadata": {
    "collapsed": false,
    "ExecuteTime": {
     "end_time": "2024-05-15T01:54:21.094135Z",
     "start_time": "2024-05-15T01:54:19.375063Z"
    }
   },
   "id": "e62abd6aacefd5dc",
   "execution_count": 1
  },
  {
   "cell_type": "code",
   "execution_count": 2,
   "id": "initial_id",
   "metadata": {
    "collapsed": true,
    "ExecuteTime": {
     "end_time": "2024-05-15T01:54:25.806391Z",
     "start_time": "2024-05-15T01:54:25.801612Z"
    }
   },
   "outputs": [],
   "source": [
    "\n",
    "# Database connection\n",
    "def get_db_connection():\n",
    "    user = 'postgres'\n",
    "    password = 'Ballin23!'\n",
    "    host = 'localhost'\n",
    "    port = '5433'\n",
    "    database = 'postgres'\n",
    "\n",
    "    connection_string = f'postgresql://{user}:{password}@{host}:{port}/{database}'\n",
    "    engine = create_engine(connection_string)\n",
    "    return engine.connect(), engine"
   ]
  },
  {
   "cell_type": "code",
   "outputs": [],
   "source": [
    "def fetch_latest_elos():\n",
    "    conn, _ = get_db_connection()\n",
    "    query = 'SELECT * FROM latest_elo_ratings'\n",
    "    df = pd.read_sql(query, conn)\n",
    "    conn.close()\n",
    "\n",
    "    # Create a dictionary of dictionaries to store Elo ratings by map and team\n",
    "    elo_ratings = {}\n",
    "    for _, row in df.iterrows():\n",
    "        team = row['team']\n",
    "        map_name = row['map']\n",
    "        rating = row['elo_rating']\n",
    "\n",
    "        if map_name not in elo_ratings:\n",
    "            elo_ratings[map_name] = {}\n",
    "        elo_ratings[map_name][team] = rating\n",
    "\n",
    "    return elo_ratings"
   ],
   "metadata": {
    "collapsed": false,
    "ExecuteTime": {
     "end_time": "2024-05-15T01:54:33.315345Z",
     "start_time": "2024-05-15T01:54:33.311341Z"
    }
   },
   "id": "722368b31be7ee3c",
   "execution_count": 3
  },
  {
   "cell_type": "code",
   "outputs": [],
   "source": [],
   "metadata": {
    "collapsed": false
   },
   "id": "c2d180b8b6a318ed"
  },
  {
   "cell_type": "code",
   "outputs": [],
   "source": [
    "def fetch_new_matches():\n",
    "    conn, _ = get_db_connection()\n",
    "    query = '''\n",
    "    SELECT * FROM valorant_game_data\n",
    "    WHERE match_id NOT IN (SELECT match_id FROM processed_matches)\n",
    "    ORDER BY match_timestamp\n",
    "    '''\n",
    "    df = pd.read_sql(query, conn)\n",
    "    conn.close()\n",
    "    return df"
   ],
   "metadata": {
    "collapsed": false,
    "ExecuteTime": {
     "end_time": "2024-05-15T01:55:01.025950Z",
     "start_time": "2024-05-15T01:55:01.023125Z"
    }
   },
   "id": "825beb1e0ee389b7",
   "execution_count": 4
  },
  {
   "cell_type": "code",
   "outputs": [
    {
     "data": {
      "text/plain": "Empty DataFrame\nColumns: [match_id, match_timestamp, winning_team, losing_team, winning_team_score, losing_team_score, map, region, event, league]\nIndex: []",
      "text/html": "<div>\n<style scoped>\n    .dataframe tbody tr th:only-of-type {\n        vertical-align: middle;\n    }\n\n    .dataframe tbody tr th {\n        vertical-align: top;\n    }\n\n    .dataframe thead th {\n        text-align: right;\n    }\n</style>\n<table border=\"1\" class=\"dataframe\">\n  <thead>\n    <tr style=\"text-align: right;\">\n      <th></th>\n      <th>match_id</th>\n      <th>match_timestamp</th>\n      <th>winning_team</th>\n      <th>losing_team</th>\n      <th>winning_team_score</th>\n      <th>losing_team_score</th>\n      <th>map</th>\n      <th>region</th>\n      <th>event</th>\n      <th>league</th>\n    </tr>\n  </thead>\n  <tbody>\n  </tbody>\n</table>\n</div>"
     },
     "execution_count": 5,
     "metadata": {},
     "output_type": "execute_result"
    }
   ],
   "source": [
    "fetch_new_matches()"
   ],
   "metadata": {
    "collapsed": false,
    "ExecuteTime": {
     "end_time": "2024-05-15T01:55:14.148952Z",
     "start_time": "2024-05-15T01:55:13.937968Z"
    }
   },
   "id": "e60fd644e7aca3f2",
   "execution_count": 5
  },
  {
   "cell_type": "code",
   "outputs": [],
   "source": [],
   "metadata": {
    "collapsed": false
   },
   "id": "54e6d096cf68fe11"
  },
  {
   "cell_type": "code",
   "outputs": [],
   "source": [],
   "metadata": {
    "collapsed": false
   },
   "id": "58e43f74871ed909"
  }
 ],
 "metadata": {
  "kernelspec": {
   "display_name": "Python 3",
   "language": "python",
   "name": "python3"
  },
  "language_info": {
   "codemirror_mode": {
    "name": "ipython",
    "version": 2
   },
   "file_extension": ".py",
   "mimetype": "text/x-python",
   "name": "python",
   "nbconvert_exporter": "python",
   "pygments_lexer": "ipython2",
   "version": "2.7.6"
  }
 },
 "nbformat": 4,
 "nbformat_minor": 5
}
